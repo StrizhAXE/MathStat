{
  "nbformat": 4,
  "nbformat_minor": 0,
  "metadata": {
    "colab": {
      "name": "Les_7.ipynb",
      "provenance": [],
      "collapsed_sections": [],
      "authorship_tag": "ABX9TyMfmqIlxoVYjmNE0225fcWc",
      "include_colab_link": true
    },
    "kernelspec": {
      "name": "python3",
      "display_name": "Python 3"
    },
    "language_info": {
      "name": "python"
    }
  },
  "cells": [
    {
      "cell_type": "markdown",
      "metadata": {
        "id": "view-in-github",
        "colab_type": "text"
      },
      "source": [
        "<a href=\"https://colab.research.google.com/github/StrizhAXE/MathStat/blob/main/Les_7.ipynb\" target=\"_parent\"><img src=\"https://colab.research.google.com/assets/colab-badge.svg\" alt=\"Open In Colab\"/></a>"
      ]
    },
    {
      "cell_type": "markdown",
      "metadata": {
        "id": "gTcyc5YsVGyB"
      },
      "source": [
        "#####1.\n",
        "Даны значения величины заработной платы заемщиков банка (zp) и значения их поведенческого кредитного скоринга (ks): zp = [35, 45, 190, 200, 40, 70, 54, 150, 120, 110], ks = [401, 574, 874, 919, 459, 739, 653, 902, 746, 832]. Используя математические операции, посчитать коэффициенты линейной регрессии, приняв за X заработную плату (то есть, zp - признак), а за y - значения скорингового балла (то есть, ks - целевая переменная). Произвести расчет как с использованием intercept, так и без."
      ]
    },
    {
      "cell_type": "code",
      "metadata": {
        "id": "y6lkyGoNWztE"
      },
      "source": [
        "%reset -f\n",
        "import numpy as np"
      ],
      "execution_count": 2,
      "outputs": []
    },
    {
      "cell_type": "code",
      "metadata": {
        "id": "WsekEkVnUwWF"
      },
      "source": [
        "zp = np.array([35, 45, 190, 200, 40, 70, 54, 150, 120, 110])\n",
        "ks = np.array([401, 574, 874, 919, 459, 739, 653, 902, 746, 832])"
      ],
      "execution_count": 3,
      "outputs": []
    },
    {
      "cell_type": "code",
      "metadata": {
        "colab": {
          "base_uri": "https://localhost:8080/"
        },
        "id": "aca4Fj3_W2-l",
        "outputId": "55ab839f-fe32-4ca1-91d6-4190b6977235"
      },
      "source": [
        "# модель линейной регрессии с интерсептом\n",
        "b = (np.mean(zp * ks) - np.mean(zp) * np.mean(ks)) / (np.mean(zp**2) - np.mean(zp)**2)\n",
        "b"
      ],
      "execution_count": 4,
      "outputs": [
        {
          "output_type": "execute_result",
          "data": {
            "text/plain": [
              "2.620538882402765"
            ]
          },
          "metadata": {},
          "execution_count": 4
        }
      ]
    },
    {
      "cell_type": "code",
      "metadata": {
        "colab": {
          "base_uri": "https://localhost:8080/"
        },
        "id": "nKoHL4cSYFOq",
        "outputId": "3c4b0659-8bd6-4aca-fb04-63737ce6dc10"
      },
      "source": [
        "a = np.mean(ks) - b * np.mean(zp)\n",
        "a"
      ],
      "execution_count": 5,
      "outputs": [
        {
          "output_type": "execute_result",
          "data": {
            "text/plain": [
              "444.1773573243596"
            ]
          },
          "metadata": {},
          "execution_count": 5
        }
      ]
    },
    {
      "cell_type": "code",
      "metadata": {
        "colab": {
          "base_uri": "https://localhost:8080/"
        },
        "id": "RTi-EW--X01u",
        "outputId": "165fd9c8-5b30-432a-ba21-e82c7f6291be"
      },
      "source": [
        "print(f\"y_hat = {np.round(a, 2)} + {np.round(b, 2)} * X\")"
      ],
      "execution_count": 29,
      "outputs": [
        {
          "output_type": "stream",
          "name": "stdout",
          "text": [
            "y_hat = 444.18 + 2.62 * X\n"
          ]
        }
      ]
    },
    {
      "cell_type": "code",
      "metadata": {
        "id": "8w0BRhtiY1Vu"
      },
      "source": [
        "# модель линейной регрессии ЕБЗ интерсепта"
      ],
      "execution_count": 7,
      "outputs": []
    },
    {
      "cell_type": "code",
      "metadata": {
        "id": "3GGfrr3hLh2R"
      },
      "source": [
        "X = np.array([35, 45, 190, 200, 40, 70, 54, 150, 120, 110])\n",
        "y = np.array([401, 574, 874, 919, 459, 739, 653, 902, 746, 832])"
      ],
      "execution_count": 8,
      "outputs": []
    },
    {
      "cell_type": "code",
      "metadata": {
        "id": "ngoj-cjGL995"
      },
      "source": [
        "X = X.reshape(10,1)\n",
        "y = y.reshape(10,1)\n",
        "#X, y"
      ],
      "execution_count": 20,
      "outputs": []
    },
    {
      "cell_type": "code",
      "metadata": {
        "colab": {
          "base_uri": "https://localhost:8080/"
        },
        "id": "K6LcdQNUMrtV",
        "outputId": "2a9d2c02-70da-4e6a-818c-426566f5a22c"
      },
      "source": [
        "B = np.dot(np.linalg.inv(np.dot(X.T, X)), X.T @ y)\n",
        "print(f\"y = {np.round(B[0, 0], 2)} * X\")"
      ],
      "execution_count": 27,
      "outputs": [
        {
          "output_type": "stream",
          "name": "stdout",
          "text": [
            "y = 5.89 * X\n"
          ]
        }
      ]
    },
    {
      "cell_type": "markdown",
      "metadata": {
        "id": "9kaZzCebO2LE"
      },
      "source": [
        "#####2.\n",
        "Посчитать коэффициент линейной регрессии при заработной плате (zp), используя градиентный спуск (без intercept)"
      ]
    },
    {
      "cell_type": "code",
      "metadata": {
        "id": "6fu3QFofMTRO"
      },
      "source": [
        "%reset -f\n",
        "import numpy as np\n",
        "X = np.array([35, 45, 190, 200, 40, 70, 54, 150, 120, 110])\n",
        "y = np.array([401, 574, 874, 919, 459, 739, 653, 902, 746, 832])\n",
        "n = len(X)"
      ],
      "execution_count": 40,
      "outputs": []
    },
    {
      "cell_type": "code",
      "metadata": {
        "id": "s4H8RGAKPU9H"
      },
      "source": [
        "def mse_ (B1, y=y, X=X, n=10):\n",
        "  return np.sum((B1*X - y)**2)/n"
      ],
      "execution_count": 42,
      "outputs": []
    },
    {
      "cell_type": "code",
      "metadata": {
        "colab": {
          "base_uri": "https://localhost:8080/"
        },
        "id": "8LJKJo2KPyHi",
        "outputId": "671e9392-e846-4718-eab0-ce7734a187cf"
      },
      "source": [
        "B1 = 0.1\n",
        "alfa = 1e-6\n",
        "alfa"
      ],
      "execution_count": 43,
      "outputs": [
        {
          "output_type": "execute_result",
          "data": {
            "text/plain": [
              "1e-06"
            ]
          },
          "metadata": {},
          "execution_count": 43
        }
      ]
    },
    {
      "cell_type": "code",
      "metadata": {
        "colab": {
          "base_uri": "https://localhost:8080/"
        },
        "id": "9ZtLApvhQAAV",
        "outputId": "0f92507c-97f4-491c-e3b0-5069609bf413"
      },
      "source": [
        "for i in range(10000):\n",
        "  B1 -= alfa* (2/n) * np.sum((B1 * X - y)*X)\n",
        "  if i %5000 == 0:\n",
        "    print('Itaration {i}, B1 = {B1}, mse = {mse}'.format(i=i, B1=B1, mse=mse_(B1)))"
      ],
      "execution_count": 44,
      "outputs": [
        {
          "output_type": "stream",
          "name": "stdout",
          "text": [
            "Itaration 0, B1 = 0.25952808, mse = 493237.7212546963\n",
            "Itaration 5000, B1 = 5.889820420132673, mse = 56516.85841571943\n"
          ]
        }
      ]
    },
    {
      "cell_type": "code",
      "metadata": {
        "colab": {
          "base_uri": "https://localhost:8080/"
        },
        "id": "0I48wpTjSPi6",
        "outputId": "7541af23-5222-4222-ecda-ae11d9dfb0d6"
      },
      "source": [
        "print(f\"y_hat = {np.round(B1, 2)} * X\")"
      ],
      "execution_count": 46,
      "outputs": [
        {
          "output_type": "stream",
          "name": "stdout",
          "text": [
            "y_hat = 5.89 * X\n"
          ]
        }
      ]
    },
    {
      "cell_type": "markdown",
      "metadata": {
        "id": "hoF6vSSzTbkH"
      },
      "source": [
        "#####3.\n",
        "В каких случаях для вычисления доверительных интервалов и проверки статистических гипотез используется таблица значений функции Лапласа, а в каких - таблица критических точек распределения Стьюдента\n",
        "\n",
        "*Критерий Лапласа применяется, если известна Дисперсия генеральной совокупности, а Стьюдента если нет, а есть только данные выборки*"
      ]
    }
  ]
}