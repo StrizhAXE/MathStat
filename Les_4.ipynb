{
  "nbformat": 4,
  "nbformat_minor": 0,
  "metadata": {
    "colab": {
      "name": "Les_4.ipynb",
      "provenance": [],
      "collapsed_sections": [],
      "authorship_tag": "ABX9TyMzPZpan/U8bxt3FW48294j",
      "include_colab_link": true
    },
    "kernelspec": {
      "name": "python3",
      "display_name": "Python 3"
    },
    "language_info": {
      "name": "python"
    }
  },
  "cells": [
    {
      "cell_type": "markdown",
      "metadata": {
        "id": "view-in-github",
        "colab_type": "text"
      },
      "source": [
        "<a href=\"https://colab.research.google.com/github/StrizhAXE/MathStat/blob/main/Les_4.ipynb\" target=\"_parent\"><img src=\"https://colab.research.google.com/assets/colab-badge.svg\" alt=\"Open In Colab\"/></a>"
      ]
    },
    {
      "cell_type": "markdown",
      "metadata": {
        "id": "OZsaQo1vGacF"
      },
      "source": [
        "1. Случайная непрерывная величина A имеет равномерное распределение на промежутке (200, 800].\n",
        "Найдите ее среднее значение и дисперсию"
      ]
    },
    {
      "cell_type": "code",
      "metadata": {
        "id": "LHfLLindHTQ7"
      },
      "source": [
        "a = 200\n",
        "b = 800"
      ],
      "execution_count": 1,
      "outputs": []
    },
    {
      "cell_type": "code",
      "metadata": {
        "colab": {
          "base_uri": "https://localhost:8080/"
        },
        "id": "fdT4zSJIGLWI",
        "outputId": "a7b17701-6419-405a-876e-f5de6cc0639c"
      },
      "source": [
        "# среднее\n",
        "X = (a + b) / 2\n",
        "X"
      ],
      "execution_count": 2,
      "outputs": [
        {
          "output_type": "execute_result",
          "data": {
            "text/plain": [
              "500.0"
            ]
          },
          "metadata": {},
          "execution_count": 2
        }
      ]
    },
    {
      "cell_type": "code",
      "metadata": {
        "colab": {
          "base_uri": "https://localhost:8080/"
        },
        "id": "O7UMuEcmGwpu",
        "outputId": "49a97cd5-40bc-4073-8495-41634ed3b941"
      },
      "source": [
        "# дисперсия\n",
        "D = (b - a)**2 / 12\n",
        "D"
      ],
      "execution_count": 3,
      "outputs": [
        {
          "output_type": "execute_result",
          "data": {
            "text/plain": [
              "30000.0"
            ]
          },
          "metadata": {},
          "execution_count": 3
        }
      ]
    },
    {
      "cell_type": "markdown",
      "metadata": {
        "id": "QPc8ng7FHkgb"
      },
      "source": [
        "2. О случайной непрерывной равномерно распределенной величине B известно, что ее дисперсия равна 0.2.\n",
        "Можно ли найти правую границу величины B и ее среднее значение зная, что левая граница равна 0.5?\n",
        "Если да, найдите ее."
      ]
    },
    {
      "cell_type": "code",
      "metadata": {
        "id": "bq5ilgXGHmzs"
      },
      "source": [
        "D = 0.2\n",
        "a = 0.5\n",
        "###########\n",
        "# 0.2 = (b - 0.5)**2 / 12"
      ],
      "execution_count": 4,
      "outputs": []
    },
    {
      "cell_type": "code",
      "metadata": {
        "colab": {
          "base_uri": "https://localhost:8080/"
        },
        "id": "og2yfqeNH04K",
        "outputId": "d7e4a00d-11da-4080-b5dd-81fadef999b3"
      },
      "source": [
        "# найдем корни через дискриминант\n",
        "Dis = 24\n",
        "b1 = (1 - 24 * 0.5) / 2\n",
        "b1\n",
        "b2 = (1 + 24 * 0.5) / 2\n",
        "# т.к. b не может быть меньше а, то b = {b2}\n",
        "b2"
      ],
      "execution_count": 5,
      "outputs": [
        {
          "output_type": "execute_result",
          "data": {
            "text/plain": [
              "6.5"
            ]
          },
          "metadata": {},
          "execution_count": 5
        }
      ]
    },
    {
      "cell_type": "markdown",
      "metadata": {
        "id": "vTLHcvQvKN9O"
      },
      "source": [
        "3. Непрерывная случайная величина X распределена нормально и задана плотностью распределения\n",
        "f(x) = (1 / (4 * sqrt(2*pi))) * (exp(-(x+2)**2) / 32).\n",
        "Найдите:\n",
        "а). M(X)\n",
        "б). D(X)\n",
        "в). std(X) (среднее квадратичное отклонение)\n",
        "\n",
        "\n",
        "M(X) = -2\n",
        "\n",
        "D(X) = 4**2 = 8\n",
        "\n",
        "std(X) = 4"
      ]
    },
    {
      "cell_type": "markdown",
      "metadata": {
        "id": "bwm9lw5VMDZz"
      },
      "source": [
        "4. Рост взрослого населения города X имеет нормальное распределение.\n",
        "Причем, средний рост равен 174 см, а среднее квадратичное отклонение равно 8 см.\n",
        "Какова вероятность того, что случайным образом выбранный взрослый человек имеет рост:\n",
        "а). больше 182 см\n",
        "б). больше 190 см\n",
        "в). от 166 см до 190 см\n",
        "г). от 166 см до 182 см\n",
        "д). от 158 см до 190 см\n",
        "е). не выше 150 см или не ниже 190 см\n",
        "ё). не выше 150 см или не ниже 198 см\n",
        "ж). ниже 166 см."
      ]
    },
    {
      "cell_type": "code",
      "metadata": {
        "id": "0u9TuaGRMG6_"
      },
      "source": [
        "X = 174\n",
        "std = 8"
      ],
      "execution_count": 6,
      "outputs": []
    },
    {
      "cell_type": "code",
      "metadata": {
        "id": "fbRnEn5cMix4"
      },
      "source": [
        "import scipy.stats as st\n",
        "import numpy as np"
      ],
      "execution_count": 7,
      "outputs": []
    },
    {
      "cell_type": "code",
      "metadata": {
        "colab": {
          "base_uri": "https://localhost:8080/"
        },
        "id": "NFnzONa5NFJD",
        "outputId": "a2601eeb-caa4-49a1-8352-8026fd5f770d"
      },
      "source": [
        "# а) больше 182 см\n",
        "x = (182 - X ) / std\n",
        "P_182 = 1 - st.norm.cdf(x)\n",
        "print(f\"P(>182) = {np.round(P_182 * 100,2)} %\")"
      ],
      "execution_count": 8,
      "outputs": [
        {
          "output_type": "stream",
          "text": [
            "P(>182) = 15.87 %\n"
          ],
          "name": "stdout"
        }
      ]
    },
    {
      "cell_type": "code",
      "metadata": {
        "colab": {
          "base_uri": "https://localhost:8080/"
        },
        "id": "nIBMEWFsOi7Y",
        "outputId": "c26cd757-3e76-4d35-dba0-be68a927b546"
      },
      "source": [
        "# б) больше 190 см\n",
        "x = (190 - X ) / std\n",
        "P_190 = 1 - st.norm.cdf(x)\n",
        "print(f\"P(>190) = {np.round(P_190 * 100,2)} %\")"
      ],
      "execution_count": 9,
      "outputs": [
        {
          "output_type": "stream",
          "text": [
            "P(>190) = 2.28 %\n"
          ],
          "name": "stdout"
        }
      ]
    },
    {
      "cell_type": "code",
      "metadata": {
        "colab": {
          "base_uri": "https://localhost:8080/"
        },
        "id": "XQzfE9jSPBh-",
        "outputId": "cb81c226-0fde-4f70-e204-c9ed8cdb5719"
      },
      "source": [
        "# в) от 166 см до 190 см\n",
        "x1 = (166 - X ) / std\n",
        "x2 = (190 - X ) / std\n",
        "P = st.norm.cdf(x2) - st.norm.cdf(x1)\n",
        "print(f\"P(166...190) = {np.round(P * 100,2)} %\")"
      ],
      "execution_count": 10,
      "outputs": [
        {
          "output_type": "stream",
          "text": [
            "P(166...190) = 81.86 %\n"
          ],
          "name": "stdout"
        }
      ]
    },
    {
      "cell_type": "code",
      "metadata": {
        "colab": {
          "base_uri": "https://localhost:8080/"
        },
        "id": "vEewmXRtPX6D",
        "outputId": "b9cc9199-1868-4d37-a08d-4a8883579413"
      },
      "source": [
        "# г) от 166 см до 182 см\n",
        "x1 = (166 - X ) / std\n",
        "x2 = (182 - X ) / std\n",
        "P = st.norm.cdf(x2) - st.norm.cdf(x1)\n",
        "print(f\"P(166...182) = {np.round(P * 100,2)} %\")"
      ],
      "execution_count": 11,
      "outputs": [
        {
          "output_type": "stream",
          "text": [
            "P(166...182) = 68.27 %\n"
          ],
          "name": "stdout"
        }
      ]
    },
    {
      "cell_type": "code",
      "metadata": {
        "colab": {
          "base_uri": "https://localhost:8080/"
        },
        "id": "7h8epNT1Ph9y",
        "outputId": "1d90ce9c-27bc-4f7d-b67e-b2d49ac79df5"
      },
      "source": [
        "# д) от 158 см до 190 см\n",
        "x1 = (158 - X ) / std\n",
        "x2 = (182 - X ) / std\n",
        "P = st.norm.cdf(x2) - st.norm.cdf(x1)\n",
        "print(f\"P(158...182) = {np.round(P * 100,2)} %\")"
      ],
      "execution_count": 12,
      "outputs": [
        {
          "output_type": "stream",
          "text": [
            "P(158...182) = 81.86 %\n"
          ],
          "name": "stdout"
        }
      ]
    },
    {
      "cell_type": "code",
      "metadata": {
        "colab": {
          "base_uri": "https://localhost:8080/"
        },
        "id": "UxGw4TJ3Po_o",
        "outputId": "d165b1ad-3cfa-4974-e464-90cd330dabaf"
      },
      "source": [
        "# е) не выше 150 см или не ниже 190 см\n",
        "x1 = (150 - X ) / std\n",
        "x2 = (190 - X ) / std\n",
        "P = st.norm.cdf(x1) + (1 - st.norm.cdf(x2))\n",
        "print(f\"P(<150 & >190) = {np.round(P * 100,2)} %\")"
      ],
      "execution_count": 13,
      "outputs": [
        {
          "output_type": "stream",
          "text": [
            "P(<150 & >190) = 2.41 %\n"
          ],
          "name": "stdout"
        }
      ]
    },
    {
      "cell_type": "code",
      "metadata": {
        "colab": {
          "base_uri": "https://localhost:8080/"
        },
        "id": "fVmq7mnwQG04",
        "outputId": "88a31106-d43c-4038-b4cd-e8584777f0f6"
      },
      "source": [
        "# ё) не выше 150 см или не ниже 198 см\n",
        "x1 = (150 - X ) / std\n",
        "x2 = (198 - X ) / std\n",
        "P = st.norm.cdf(x1) + (1 - st.norm.cdf(x2))\n",
        "print(f\"P(<150 & >198) = {np.round(P * 100,2)} %\")\n"
      ],
      "execution_count": 14,
      "outputs": [
        {
          "output_type": "stream",
          "text": [
            "P(<150 & >198) = 0.27 %\n"
          ],
          "name": "stdout"
        }
      ]
    },
    {
      "cell_type": "code",
      "metadata": {
        "colab": {
          "base_uri": "https://localhost:8080/"
        },
        "id": "qg4r8nFXQPqq",
        "outputId": "7353eac1-93a0-414c-f31e-445a33b04832"
      },
      "source": [
        "# ж) ниже 166 см.\n",
        "x = (166 - X ) / std\n",
        "P = st.norm.cdf(x)\n",
        "print(f\"P(<166) = {np.round(P * 100,2)} %\")"
      ],
      "execution_count": 15,
      "outputs": [
        {
          "output_type": "stream",
          "text": [
            "P(<166) = 15.87 %\n"
          ],
          "name": "stdout"
        }
      ]
    },
    {
      "cell_type": "markdown",
      "metadata": {
        "id": "14J4x5F-Qipj"
      },
      "source": [
        "5. На сколько сигм (средних квадратичных отклонений) отклоняется рост человека, равный 190 см, от\n",
        "математического ожидания роста в популяции, в которой M(X) = 178 см и D(X) = 25 кв.см?"
      ]
    },
    {
      "cell_type": "code",
      "metadata": {
        "colab": {
          "base_uri": "https://localhost:8080/"
        },
        "id": "x2FuTV90QlI9",
        "outputId": "72646a0a-570d-4eff-8ba9-45b53c3c2c42"
      },
      "source": [
        "Mx = 178\n",
        "a = 190\n",
        "Dx = 25\n",
        "\n",
        "std = np.sqrt(Dx)\n",
        "n = (a - Mx) / std\n",
        "print(f\"Рост 190 см больше.мат ожидания в {np.round(n,2)} сигм\")"
      ],
      "execution_count": 16,
      "outputs": [
        {
          "output_type": "stream",
          "text": [
            "Рост 190 см больше.мат ожидания в 2.4 сигм\n"
          ],
          "name": "stdout"
        }
      ]
    }
  ]
}