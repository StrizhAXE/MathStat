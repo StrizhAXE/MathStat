{
  "nbformat": 4,
  "nbformat_minor": 0,
  "metadata": {
    "colab": {
      "name": "Les_6.ipynb",
      "provenance": [],
      "collapsed_sections": [],
      "authorship_tag": "ABX9TyNyDECfQUFQKyhDDEsU6Njz",
      "include_colab_link": true
    },
    "kernelspec": {
      "name": "python3",
      "display_name": "Python 3"
    },
    "language_info": {
      "name": "python"
    }
  },
  "cells": [
    {
      "cell_type": "markdown",
      "metadata": {
        "id": "view-in-github",
        "colab_type": "text"
      },
      "source": [
        "<a href=\"https://colab.research.google.com/github/StrizhAXE/MathStat/blob/main/Les_6.ipynb\" target=\"_parent\"><img src=\"https://colab.research.google.com/assets/colab-badge.svg\" alt=\"Open In Colab\"/></a>"
      ]
    },
    {
      "cell_type": "markdown",
      "metadata": {
        "id": "8pTw9pibK8oC"
      },
      "source": [
        "1. Даны значения величины заработной платы заемщиков банка (zp) и значения их поведенческого кредитного скоринга (ks):\n",
        "zp = [35, 45, 190, 200, 40, 70, 54, 150, 120, 110],\n",
        "ks = [401, 574, 874, 919, 459, 739, 653, 902, 746, 832].\n",
        "Найдите ковариацию этих двух величин с помощью элементарных действий, а затем с помощью функции cov из numpy. \n",
        "Полученные значения должны быть равны.\n",
        "Найдите коэффициент корреляции Пирсона с помощью ковариации и среднеквадратичных отклонений двух признаков,\n",
        "а затем с использованием функций из библиотек numpy и pandas."
      ]
    },
    {
      "cell_type": "code",
      "metadata": {
        "id": "GjwulUc2LQ9V"
      },
      "source": [
        "%reset -f\n",
        "import numpy as np"
      ],
      "execution_count": 1,
      "outputs": []
    },
    {
      "cell_type": "code",
      "metadata": {
        "id": "P6arpn49Kusc"
      },
      "source": [
        "zp = np.array([35, 45, 190, 200, 40, 70, 54, 150, 120, 110])\n",
        "ks = np.array([401, 574, 874, 919, 459, 739, 653, 902, 746, 832])"
      ],
      "execution_count": 2,
      "outputs": []
    },
    {
      "cell_type": "code",
      "metadata": {
        "colab": {
          "base_uri": "https://localhost:8080/"
        },
        "id": "vBVSDt4_LeG5",
        "outputId": "fa9576a3-7418-4bd5-9c36-2ae9bf3221d9"
      },
      "source": [
        "#ковариация\n",
        "cov = np.mean(zp * ks) - (np.mean(zp) * np.mean(ks))\n",
        "cov_np = np.cov(zp, ks, ddof=0)\n",
        "print(f\"cov NP {cov_np[0][1]} = cov simle {np.round(cov, 2)}\")"
      ],
      "execution_count": 3,
      "outputs": [
        {
          "output_type": "stream",
          "name": "stdout",
          "text": [
            "cov NP 9157.84 = cov simle 9157.84\n"
          ]
        }
      ]
    },
    {
      "cell_type": "code",
      "metadata": {
        "colab": {
          "base_uri": "https://localhost:8080/"
        },
        "id": "HJHb6NH9Pn8K",
        "outputId": "9fea0ff8-6d06-45a5-f506-ccc82ec26b47"
      },
      "source": [
        "#коэффициент корреляции Пирсона\n",
        "Rpirs_simple = cov / (np.std(zp) * np.std(ks))\n",
        "#print(f\"{np.round(Rpirs_simple, 5)}\")\n",
        "Rpirs_np = np.corrcoef(zp, ks)\n",
        "print(f\"R numpy {np.round(Rpirs_np[0][1], 5)} = R simle {np.round(Rpirs_simple, 5)}\")"
      ],
      "execution_count": 4,
      "outputs": [
        {
          "output_type": "stream",
          "name": "stdout",
          "text": [
            "R numpy 0.88749 = R simle 0.88749\n"
          ]
        }
      ]
    },
    {
      "cell_type": "markdown",
      "metadata": {
        "id": "ghqXx1OwRWwM"
      },
      "source": [
        "2. Измерены значения IQ выборки студентов,\n",
        "обучающихся в местных технических вузах:\n",
        "131, 125, 115, 122, 131, 115, 107, 99, 125, 111.\n",
        "Известно, что в генеральной совокупности IQ распределен нормально.\n",
        "Найдите доверительный интервал для математического ожидания с надежностью 0.95."
      ]
    },
    {
      "cell_type": "code",
      "metadata": {
        "id": "eEZzDSTyRllr"
      },
      "source": [
        "%reset -f\n",
        "import numpy as np"
      ],
      "execution_count": 5,
      "outputs": []
    },
    {
      "cell_type": "code",
      "metadata": {
        "id": "VBxjb4TqRYdQ"
      },
      "source": [
        "IQ = np.array([131, 125, 115, 122, 131, 115, 107, 99, 125, 111])\n",
        "alfa = 0.95\n",
        "t = 2.262\n",
        "n = len(IQ)"
      ],
      "execution_count": 6,
      "outputs": []
    },
    {
      "cell_type": "code",
      "metadata": {
        "colab": {
          "base_uri": "https://localhost:8080/"
        },
        "id": "LC_8uIc_SIN9",
        "outputId": "7e89e102-10c5-469e-ce3e-31dbb4c86c2c"
      },
      "source": [
        "M = IQ.mean()\n",
        "sigma = np.std(IQ, ddof=1)\n",
        "\n",
        "a1 = M - t * (sigma / n **0.5)\n",
        "a2 = M + t * (sigma / n **0.5)\n",
        "print(f\"[{np.round(a1, 2)}; {np.round(a2, 2)}]\")"
      ],
      "execution_count": 7,
      "outputs": [
        {
          "output_type": "stream",
          "name": "stdout",
          "text": [
            "[110.56; 125.64]\n"
          ]
        }
      ]
    },
    {
      "cell_type": "markdown",
      "metadata": {
        "id": "bQeAX83ASZf4"
      },
      "source": [
        "3. Известно, что рост футболистов в сборной распределен нормально\n",
        "с дисперсией генеральной совокупности, равной 25 кв.см. Объем выборки равен 27,\n",
        "среднее выборочное составляет 174.2. Найдите доверительный интервал для математического ожидания с надежностью 0.95."
      ]
    },
    {
      "cell_type": "code",
      "metadata": {
        "id": "6VLlCBR1SbKC"
      },
      "source": [
        "%reset -f\n",
        "import numpy as np"
      ],
      "execution_count": 8,
      "outputs": []
    },
    {
      "cell_type": "code",
      "metadata": {
        "id": "mQUBfEZWSfwT"
      },
      "source": [
        "D = 25\n",
        "alfa = 0.95\n",
        "M = 174.2\n",
        "n = 27\n",
        "Za2 = 1.96"
      ],
      "execution_count": 9,
      "outputs": []
    },
    {
      "cell_type": "code",
      "metadata": {
        "colab": {
          "base_uri": "https://localhost:8080/"
        },
        "id": "crzv5CvPS8_i",
        "outputId": "923bb134-b69c-4df2-d6a2-d8d62ad296bc"
      },
      "source": [
        "sigma = np.sqrt(D)\n",
        "a1 = M - Za2 * (sigma / n **0.5)\n",
        "a2 = M + Za2 * (sigma / n **0.5)\n",
        "print(f\"[{np.round(a1, 2)}; {np.round(a2, 2)}]\")"
      ],
      "execution_count": 10,
      "outputs": [
        {
          "output_type": "stream",
          "name": "stdout",
          "text": [
            "[172.31; 176.09]\n"
          ]
        }
      ]
    },
    {
      "cell_type": "markdown",
      "metadata": {
        "id": "X_oaauH2U37H"
      },
      "source": [
        "4. На курсовик к сожалению нет времени."
      ]
    }
  ]
}