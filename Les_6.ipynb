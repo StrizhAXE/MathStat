{
  "nbformat": 4,
  "nbformat_minor": 0,
  "metadata": {
    "colab": {
      "name": "Les_6.ipynb",
      "provenance": [],
      "collapsed_sections": [],
      "authorship_tag": "ABX9TyNyDECfQUFQKyhDDEsU6Njz",
      "include_colab_link": true
    },
    "kernelspec": {
      "name": "python3",
      "display_name": "Python 3"
    },
    "language_info": {
      "name": "python"
    }
  },
  "cells": [
    {
      "cell_type": "markdown",
      "metadata": {
        "id": "view-in-github",
        "colab_type": "text"
      },
      "source": [
        "<a href=\"https://colab.research.google.com/github/StrizhAXE/MathStat/blob/main/Les_6.ipynb\" target=\"_parent\"><img src=\"https://colab.research.google.com/assets/colab-badge.svg\" alt=\"Open In Colab\"/></a>"
      ]
    },
    {
      "cell_type": "markdown",
      "metadata": {
        "id": "8pTw9pibK8oC"
      },
      "source": [
        "1. Даны значения величины заработной платы заемщиков банка (zp) и значения их поведенческого кредитного скоринга (ks):\n",
        "zp = [35, 45, 190, 200, 40, 70, 54, 150, 120, 110],\n",
        "ks = [401, 574, 874, 919, 459, 739, 653, 902, 746, 832].\n",
        "Найдите ковариацию этих двух величин с помощью элементарных действий, а затем с помощью функции cov из numpy. \n",
        "Полученные значения должны быть равны.\n",
        "Найдите коэффициент корреляции Пирсона с помощью ковариации и среднеквадратичных отклонений двух признаков,\n",
        "а затем с использованием функций из библиотек numpy и pandas."
      ]
    },
    {
      "cell_type": "code",
      "metadata": {
        "id": "GjwulUc2LQ9V"
      },
      "source": [
        "%reset -f\n",
        "import numpy as np"
      ],
      "execution_count": 34,
      "outputs": []
    },
    {
      "cell_type": "code",
      "metadata": {
        "id": "P6arpn49Kusc"
      },
      "source": [
        "zp = np.array([35, 45, 190, 200, 40, 70, 54, 150, 120, 110])\n",
        "ks = np.array([401, 574, 874, 919, 459, 739, 653, 902, 746, 832])"
      ],
      "execution_count": 35,
      "outputs": []
    },
    {
      "cell_type": "code",
      "metadata": {
        "colab": {
          "base_uri": "https://localhost:8080/"
        },
        "id": "vBVSDt4_LeG5",
        "outputId": "f6786b5e-142e-403c-8b85-dac04ff7a82e"
      },
      "source": [
        "#ковариация\n",
        "cov = np.mean(zp * ks) - (np.mean(zp) * np.mean(ks))\n",
        "cov_np = np.cov(zp, ks, ddof=0)\n",
        "print(f\"cov NP {cov_np[0][1]} = cov simle {np.round(cov, 2)}\")"
      ],
      "execution_count": 36,
      "outputs": [
        {
          "output_type": "stream",
          "name": "stdout",
          "text": [
            "cov NP 9157.84 = cov simle 9157.84\n"
          ]
        }
      ]
    },
    {
      "cell_type": "code",
      "metadata": {
        "colab": {
          "base_uri": "https://localhost:8080/"
        },
        "id": "HJHb6NH9Pn8K",
        "outputId": "f4672c61-af3a-4b92-94d6-d63172217c24"
      },
      "source": [
        "#коэффициент корреляции Пирсона\n",
        "Rpirs_simple = cov / (np.std(zp) * np.std(ks))\n",
        "#print(f\"{np.round(Rpirs_simple, 5)}\")\n",
        "Rpirs_np = np.corrcoef(zp, ks)\n",
        "print(f\"R numpy {np.round(Rpirs_np[0][1], 5)} = R simle {np.round(Rpirs_simple, 5)}\")"
      ],
      "execution_count": 37,
      "outputs": [
        {
          "output_type": "stream",
          "name": "stdout",
          "text": [
            "R numpy 0.88749 = R simle 0.88749\n"
          ]
        }
      ]
    },
    {
      "cell_type": "markdown",
      "metadata": {
        "id": "ghqXx1OwRWwM"
      },
      "source": [
        "2. Измерены значения IQ выборки студентов,\n",
        "обучающихся в местных технических вузах:\n",
        "131, 125, 115, 122, 131, 115, 107, 99, 125, 111.\n",
        "Известно, что в генеральной совокупности IQ распределен нормально.\n",
        "Найдите доверительный интервал для математического ожидания с надежностью 0.95."
      ]
    },
    {
      "cell_type": "code",
      "metadata": {
        "id": "eEZzDSTyRllr"
      },
      "source": [
        "%reset -f\n",
        "import numpy as np"
      ],
      "execution_count": 38,
      "outputs": []
    },
    {
      "cell_type": "code",
      "metadata": {
        "id": "VBxjb4TqRYdQ"
      },
      "source": [
        "IQ = np.array([131, 125, 115, 122, 131, 115, 107, 99, 125, 111])\n",
        "alfa = 0.95\n",
        "t = 2.262\n",
        "n = len(IQ)"
      ],
      "execution_count": 40,
      "outputs": []
    },
    {
      "cell_type": "code",
      "metadata": {
        "colab": {
          "base_uri": "https://localhost:8080/"
        },
        "id": "LC_8uIc_SIN9",
        "outputId": "ac0b58bc-97cd-4876-e3f1-205ba59bda62"
      },
      "source": [
        "M = IQ.mean()\n",
        "sigma = np.std(IQ, ddof=1)\n",
        "\n",
        "a1 = M - t * (sigma / n **0.5)\n",
        "a2 = M + t * (sigma / n **0.5)\n",
        "print(f\"[{np.round(a1, 2)}; {np.round(a2, 2)}]\")"
      ],
      "execution_count": 41,
      "outputs": [
        {
          "output_type": "stream",
          "name": "stdout",
          "text": [
            "[110.56; 125.64]\n"
          ]
        }
      ]
    },
    {
      "cell_type": "markdown",
      "metadata": {
        "id": "bQeAX83ASZf4"
      },
      "source": [
        "3. Известно, что рост футболистов в сборной распределен нормально\n",
        "с дисперсией генеральной совокупности, равной 25 кв.см. Объем выборки равен 27,\n",
        "среднее выборочное составляет 174.2. Найдите доверительный интервал для математического ожидания с надежностью 0.95."
      ]
    },
    {
      "cell_type": "code",
      "metadata": {
        "id": "6VLlCBR1SbKC"
      },
      "source": [
        "%reset -f\n",
        "import numpy as np"
      ],
      "execution_count": 42,
      "outputs": []
    },
    {
      "cell_type": "code",
      "metadata": {
        "id": "mQUBfEZWSfwT"
      },
      "source": [
        "D = 25\n",
        "alfa = 0.95\n",
        "M = 174.2\n",
        "n = 27\n",
        "Za2 = 1.96"
      ],
      "execution_count": 44,
      "outputs": []
    },
    {
      "cell_type": "code",
      "metadata": {
        "colab": {
          "base_uri": "https://localhost:8080/"
        },
        "id": "crzv5CvPS8_i",
        "outputId": "65db02a1-7c29-41ae-f447-9ce0d02a11de"
      },
      "source": [
        "sigma = np.sqrt(D)\n",
        "a1 = M - Za2 * (sigma / n **0.5)\n",
        "a2 = M + Za2 * (sigma / n **0.5)\n",
        "print(f\"[{np.round(a1, 2)}; {np.round(a2, 2)}]\")"
      ],
      "execution_count": 46,
      "outputs": [
        {
          "output_type": "stream",
          "name": "stdout",
          "text": [
            "[172.31; 176.09]\n"
          ]
        }
      ]
    },
    {
      "cell_type": "markdown",
      "metadata": {
        "id": "X_oaauH2U37H"
      },
      "source": [
        "4. На курсовик к сожалению нет времени."
      ]
    }
  ]
}