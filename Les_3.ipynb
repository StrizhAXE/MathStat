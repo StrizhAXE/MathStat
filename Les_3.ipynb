{
  "nbformat": 4,
  "nbformat_minor": 0,
  "metadata": {
    "colab": {
      "name": "Les_3.ipynb",
      "provenance": [],
      "collapsed_sections": [],
      "authorship_tag": "ABX9TyMu2Vc6VdP4KM2z3TCVUJwJ",
      "include_colab_link": true
    },
    "kernelspec": {
      "name": "python3",
      "display_name": "Python 3"
    },
    "language_info": {
      "name": "python"
    }
  },
  "cells": [
    {
      "cell_type": "markdown",
      "metadata": {
        "id": "view-in-github",
        "colab_type": "text"
      },
      "source": [
        "<a href=\"https://colab.research.google.com/github/StrizhAXE/MathStat/blob/main/Les_3.ipynb\" target=\"_parent\"><img src=\"https://colab.research.google.com/assets/colab-badge.svg\" alt=\"Open In Colab\"/></a>"
      ]
    },
    {
      "cell_type": "markdown",
      "metadata": {
        "id": "HSulbEfphbmG"
      },
      "source": [
        "1\n",
        "Даны значения зарплат из выборки выпускников: 100, 80, 75, 77, 89, 33, 45, 25, 65, 17, 30, 24, 57, 55, 70, 75, 65, 84, 90, 150. Посчитать (желательно без использования статистических методов наподобие std, var, mean):"
      ]
    },
    {
      "cell_type": "code",
      "metadata": {
        "id": "DuSdBjs-hUmM"
      },
      "source": [
        "import numpy as np\n",
        "from math import factorial as fl\n",
        "\n",
        "# сочетания\n",
        "def combinations(k, n):\n",
        "    return fl(n) / (fl(k) * fl(n - k))"
      ],
      "execution_count": 1,
      "outputs": []
    },
    {
      "cell_type": "code",
      "metadata": {
        "id": "vuRVZTT1h8SG"
      },
      "source": [
        "salaries = np.array([100, 80, 75, 77, 89, 33, 45, 25, 65, 17, 30, 24, 57, 55, 70, 75, 65, 84, 90, 150])"
      ],
      "execution_count": 2,
      "outputs": []
    },
    {
      "cell_type": "markdown",
      "metadata": {
        "id": "VIUOHOcBiD2Y"
      },
      "source": [
        "Cреднее арифметическое"
      ]
    },
    {
      "cell_type": "code",
      "metadata": {
        "colab": {
          "base_uri": "https://localhost:8080/"
        },
        "id": "MRJHO6tJiFiI",
        "outputId": "c7ff3710-b559-4892-a456-27bd88c56d5e"
      },
      "source": [
        "salaries_mean = salaries.sum() / salaries.size\n",
        "salaries_mean"
      ],
      "execution_count": 3,
      "outputs": [
        {
          "output_type": "execute_result",
          "data": {
            "text/plain": [
              "65.3"
            ]
          },
          "metadata": {},
          "execution_count": 3
        }
      ]
    },
    {
      "cell_type": "markdown",
      "metadata": {
        "id": "Q2d9838iiJ2I"
      },
      "source": [
        "Cреднее квадратичное отклонение"
      ]
    },
    {
      "cell_type": "code",
      "metadata": {
        "colab": {
          "base_uri": "https://localhost:8080/"
        },
        "id": "3oBSScidiNGT",
        "outputId": "405caa8c-79d9-4f44-a847-cdbb2e185cef"
      },
      "source": [
        "(np.sum((salaries - salaries_mean)**2) / salaries.size)**0.5"
      ],
      "execution_count": 4,
      "outputs": [
        {
          "output_type": "execute_result",
          "data": {
            "text/plain": [
              "30.823854398825596"
            ]
          },
          "metadata": {},
          "execution_count": 4
        }
      ]
    },
    {
      "cell_type": "markdown",
      "metadata": {
        "id": "b8JvhlmCiPzz"
      },
      "source": [
        "Cмещенную дисперсию"
      ]
    },
    {
      "cell_type": "code",
      "metadata": {
        "colab": {
          "base_uri": "https://localhost:8080/"
        },
        "id": "Md4YeKR_ihC6",
        "outputId": "fe2ce6e6-0b14-4ec4-c09e-60d9f37e45c8"
      },
      "source": [
        "np.sum((salaries - salaries_mean)**2) / salaries.size"
      ],
      "execution_count": 5,
      "outputs": [
        {
          "output_type": "execute_result",
          "data": {
            "text/plain": [
              "950.11"
            ]
          },
          "metadata": {},
          "execution_count": 5
        }
      ]
    },
    {
      "cell_type": "markdown",
      "metadata": {
        "id": "hD_rvNkVilKK"
      },
      "source": [
        "Несмещенную дисперсию"
      ]
    },
    {
      "cell_type": "code",
      "metadata": {
        "colab": {
          "base_uri": "https://localhost:8080/"
        },
        "id": "wFWvK0xbiod_",
        "outputId": "744752af-f597-4b14-d106-5076121fc02e"
      },
      "source": [
        "np.sum((salaries - salaries_mean)**2) / (salaries.size - 1)"
      ],
      "execution_count": 6,
      "outputs": [
        {
          "output_type": "execute_result",
          "data": {
            "text/plain": [
              "1000.1157894736842"
            ]
          },
          "metadata": {},
          "execution_count": 6
        }
      ]
    },
    {
      "cell_type": "markdown",
      "metadata": {
        "id": "7TX8axC5iqve"
      },
      "source": [
        "2\n",
        "В первом ящике находится 8 мячей, из которых 5 - белые. Во втором ящике - 12 мячей, из которых 5 белых. Из первого ящика вытаскивают случайным образом два мяча, из второго - 4. Какова вероятность того, что 3 мяча белые?"
      ]
    },
    {
      "cell_type": "code",
      "metadata": {
        "id": "BA1cNY2oiz99"
      },
      "source": [
        "#тут должно быть решение, но его пока нет"
      ],
      "execution_count": 7,
      "outputs": []
    },
    {
      "cell_type": "markdown",
      "metadata": {
        "id": "0KVpBKmOiy6w"
      },
      "source": [
        "3\n",
        "На соревновании по биатлону один из трех спортсменов стреляет и попадает в мишень. Вероятность попадания для первого спортсмена равна 0.9, для второго — 0.8, для третьего — 0.6. Найти вероятность того, что выстрел произведен:"
      ]
    },
    {
      "cell_type": "code",
      "metadata": {
        "colab": {
          "base_uri": "https://localhost:8080/"
        },
        "id": "oDrYhMEojk7i",
        "outputId": "f9ad1033-d89b-4fcb-f15f-c469dce2493e"
      },
      "source": [
        "A = 1/3 * 0.9 + 1/3 * 0.8 + 1/3 * 0.6\n",
        "A"
      ],
      "execution_count": 8,
      "outputs": [
        {
          "output_type": "execute_result",
          "data": {
            "text/plain": [
              "0.7666666666666666"
            ]
          },
          "metadata": {},
          "execution_count": 8
        }
      ]
    },
    {
      "cell_type": "markdown",
      "metadata": {
        "id": "3rIAWaunjsq9"
      },
      "source": [
        "a). первым спортсменом"
      ]
    },
    {
      "cell_type": "code",
      "metadata": {
        "colab": {
          "base_uri": "https://localhost:8080/"
        },
        "id": "tvGubzFpjuzH",
        "outputId": "28d64827-0f05-4ee5-91e9-ad8ccac1d65c"
      },
      "source": [
        "(1/3 * 0.9) / A"
      ],
      "execution_count": 9,
      "outputs": [
        {
          "output_type": "execute_result",
          "data": {
            "text/plain": [
              "0.391304347826087"
            ]
          },
          "metadata": {},
          "execution_count": 9
        }
      ]
    },
    {
      "cell_type": "markdown",
      "metadata": {
        "id": "-HoJzhrZjx6J"
      },
      "source": [
        "б). вторым спортсменом"
      ]
    },
    {
      "cell_type": "code",
      "metadata": {
        "colab": {
          "base_uri": "https://localhost:8080/"
        },
        "id": "FRmealxDj15t",
        "outputId": "b01707aa-3cb9-47b8-8c04-9d99b2bff62b"
      },
      "source": [
        "(1/3 * 0.8) / A"
      ],
      "execution_count": 10,
      "outputs": [
        {
          "output_type": "execute_result",
          "data": {
            "text/plain": [
              "0.3478260869565218"
            ]
          },
          "metadata": {},
          "execution_count": 10
        }
      ]
    },
    {
      "cell_type": "markdown",
      "metadata": {
        "id": "4kZ6WuwRj0x3"
      },
      "source": [
        "в). третьим спортсменом"
      ]
    },
    {
      "cell_type": "code",
      "metadata": {
        "colab": {
          "base_uri": "https://localhost:8080/"
        },
        "id": "9aEw2JC-j8Ag",
        "outputId": "4608aa6f-6312-4f09-ea53-27d3fca58f4c"
      },
      "source": [
        "(1/3 * 0.8) / A"
      ],
      "execution_count": 11,
      "outputs": [
        {
          "output_type": "execute_result",
          "data": {
            "text/plain": [
              "0.3478260869565218"
            ]
          },
          "metadata": {},
          "execution_count": 11
        }
      ]
    },
    {
      "cell_type": "markdown",
      "metadata": {
        "id": "6Dhv5ccvkAPq"
      },
      "source": [
        "4\n",
        "В университет на факультеты A и B поступило равное количество студентов, а на факультет C студентов поступило столько же, сколько на A и B вместе. Вероятность того, что студент факультета A сдаст первую сессию, равна 0.8. Для студента факультета B эта вероятность равна 0.7, а для студента факультета C - 0.9. Студент сдал первую сессию. Какова вероятность, что он учится: a). на факультете A б). на факультете B в). на факультете C?"
      ]
    },
    {
      "cell_type": "code",
      "metadata": {
        "colab": {
          "base_uri": "https://localhost:8080/"
        },
        "id": "ofZ_man4kBcp",
        "outputId": "69bb72fa-2842-488f-a420-f2034d14f1d1"
      },
      "source": [
        "A = 1/4 * 0.8 + 1/4 * 0.7 + 1/2 * 0.9\n",
        "A"
      ],
      "execution_count": 12,
      "outputs": [
        {
          "output_type": "execute_result",
          "data": {
            "text/plain": [
              "0.825"
            ]
          },
          "metadata": {},
          "execution_count": 12
        }
      ]
    },
    {
      "cell_type": "markdown",
      "metadata": {
        "id": "Aua21NK_kNLy"
      },
      "source": [
        "a). на факультете A"
      ]
    },
    {
      "cell_type": "code",
      "metadata": {
        "colab": {
          "base_uri": "https://localhost:8080/"
        },
        "id": "NxD_av3nkThe",
        "outputId": "17eb1130-3685-4a72-80c6-9c9622020c7c"
      },
      "source": [
        "(1/4 * 0.8) / A"
      ],
      "execution_count": 13,
      "outputs": [
        {
          "output_type": "execute_result",
          "data": {
            "text/plain": [
              "0.24242424242424246"
            ]
          },
          "metadata": {},
          "execution_count": 13
        }
      ]
    },
    {
      "cell_type": "markdown",
      "metadata": {
        "id": "qhwxSU4_kWID"
      },
      "source": [
        "б). на факультете B"
      ]
    },
    {
      "cell_type": "code",
      "metadata": {
        "colab": {
          "base_uri": "https://localhost:8080/"
        },
        "id": "tQM_NNCUkYkp",
        "outputId": "2db89ab3-ca20-4ac0-c3cd-b1166903444e"
      },
      "source": [
        "(1/4 * 0.7) / A"
      ],
      "execution_count": 14,
      "outputs": [
        {
          "output_type": "execute_result",
          "data": {
            "text/plain": [
              "0.21212121212121213"
            ]
          },
          "metadata": {},
          "execution_count": 14
        }
      ]
    },
    {
      "cell_type": "markdown",
      "metadata": {
        "id": "rEKbnla5kbgj"
      },
      "source": [
        "в). на факультете C"
      ]
    },
    {
      "cell_type": "code",
      "metadata": {
        "colab": {
          "base_uri": "https://localhost:8080/"
        },
        "id": "GICLaHgMkdk8",
        "outputId": "e0222641-22fa-4853-cdb3-941588127850"
      },
      "source": [
        "(1/2 * 0.9) / A"
      ],
      "execution_count": 15,
      "outputs": [
        {
          "output_type": "execute_result",
          "data": {
            "text/plain": [
              "0.5454545454545455"
            ]
          },
          "metadata": {},
          "execution_count": 15
        }
      ]
    },
    {
      "cell_type": "markdown",
      "metadata": {
        "id": "BQF5Da0Jk5Ez"
      },
      "source": [
        "Устройство состоит из трех деталей. Для первой детали вероятность выйти из строя в первый месяц равна 0.1, для второй - 0.2, для третьей - 0.25. Какова вероятность того, что в первый месяц выйдут из строя: а). все детали б). только две детали в). хотя бы одна деталь г). от одной до двух деталей?"
      ]
    },
    {
      "cell_type": "code",
      "metadata": {
        "id": "yo2VUVm8k9WY"
      },
      "source": [
        "#тут должно быть решение, но его пока нет"
      ],
      "execution_count": 16,
      "outputs": []
    }
  ]
}