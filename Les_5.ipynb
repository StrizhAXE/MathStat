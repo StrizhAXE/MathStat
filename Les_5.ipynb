{
  "nbformat": 4,
  "nbformat_minor": 0,
  "metadata": {
    "colab": {
      "name": "Les_5.ipynb",
      "provenance": [],
      "collapsed_sections": [],
      "authorship_tag": "ABX9TyNYedTY+9PovR77IKDJxhsP",
      "include_colab_link": true
    },
    "kernelspec": {
      "name": "python3",
      "display_name": "Python 3"
    },
    "language_info": {
      "name": "python"
    }
  },
  "cells": [
    {
      "cell_type": "markdown",
      "metadata": {
        "id": "view-in-github",
        "colab_type": "text"
      },
      "source": [
        "<a href=\"https://colab.research.google.com/github/StrizhAXE/MathStat/blob/main/Les_5.ipynb\" target=\"_parent\"><img src=\"https://colab.research.google.com/assets/colab-badge.svg\" alt=\"Open In Colab\"/></a>"
      ]
    },
    {
      "cell_type": "markdown",
      "metadata": {
        "id": "_dmvwTuMaVGX"
      },
      "source": [
        "1. Известно, что генеральная совокупность распределена нормально\n",
        "со средним квадратическим отклонением, равным 16.\n",
        "Найти доверительный интервал для оценки математического ожидания a с надежностью 0.95,\n",
        "если выборочная средняя M = 80, а объем выборки n = 256."
      ]
    },
    {
      "cell_type": "code",
      "metadata": {
        "id": "8t4FsYB4tcvE"
      },
      "source": [
        "%reset  -f"
      ],
      "execution_count": 1,
      "outputs": []
    },
    {
      "cell_type": "code",
      "metadata": {
        "id": "Z9D287szTyIq"
      },
      "source": [
        "sigma = 16\n",
        "Alfa = 0.95\n",
        "M = 80\n",
        "n = 256\n",
        "t = 1.96"
      ],
      "execution_count": 2,
      "outputs": []
    },
    {
      "cell_type": "code",
      "metadata": {
        "colab": {
          "base_uri": "https://localhost:8080/"
        },
        "id": "24YIW4BXbFiF",
        "outputId": "a2b47d60-6371-446c-9573-e28b7cd08039"
      },
      "source": [
        "# a1 < a < a2\n",
        "a1 = M - t * (sigma / n **0.5)\n",
        "a2 = M + t * (sigma / n **0.5)\n",
        "print(f\"{a1} < a < {a2}\")"
      ],
      "execution_count": 3,
      "outputs": [
        {
          "output_type": "stream",
          "text": [
            "78.04 < a < 81.96\n"
          ],
          "name": "stdout"
        }
      ]
    },
    {
      "cell_type": "markdown",
      "metadata": {
        "id": "-9g7afajeQmR"
      },
      "source": [
        "2. В результате 10 независимых измерений некоторой величины X, выполненных с одинаковой точностью,\n",
        "получены опытные данные: 6.9, 6.1, 6.2, 6.8, 7.5, 6.3, 6.4, 6.9, 6.7, 6.1\n",
        "Предполагая, что результаты измерений подчинены нормальному закону распределения вероятностей,\n",
        "оценить истинное значение величины X при помощи доверительного интервала, покрывающего это\n",
        "значение с доверительной вероятностью 0,95."
      ]
    },
    {
      "cell_type": "code",
      "metadata": {
        "id": "SY9bTvU2tf-T"
      },
      "source": [
        "%reset -f\n",
        "import numpy as np"
      ],
      "execution_count": 4,
      "outputs": []
    },
    {
      "cell_type": "code",
      "metadata": {
        "id": "fHIn4UCPeTaV"
      },
      "source": [
        "var_x = [6.9, 6.1, 6.2, 6.8, 7.5, 6.3, 6.4, 6.9, 6.7, 6.1]\n",
        "alfa = 0.95\n",
        "t = 1.96\n",
        "n = 10"
      ],
      "execution_count": 5,
      "outputs": []
    },
    {
      "cell_type": "code",
      "metadata": {
        "colab": {
          "base_uri": "https://localhost:8080/"
        },
        "id": "MPI9hhnSeoyH",
        "outputId": "66472def-f804-4295-dbff-bc37191ed127"
      },
      "source": [
        "var_x.sort()\n",
        "print(f\"Sorted array {var_x}\")\n",
        "M = (var_x[(int(len(var_x) / 2) - 1)] + var_x[(int(len(var_x) / 2))]) / 2\n",
        "sigma = np.std(var_x)\n",
        "\n",
        "# a1 < a < a2\n",
        "a1 = M - t * (sigma / n **0.5)\n",
        "a2 = M + t * (sigma / n **0.5)\n",
        "print(f\"{np.round(a1)} < a < {np.round(a2)}\")"
      ],
      "execution_count": 6,
      "outputs": [
        {
          "output_type": "stream",
          "text": [
            "Sorted array [6.1, 6.1, 6.2, 6.3, 6.4, 6.7, 6.8, 6.9, 6.9, 7.5]\n",
            "6.0 < a < 7.0\n"
          ],
          "name": "stdout"
        }
      ]
    },
    {
      "cell_type": "markdown",
      "metadata": {
        "id": "uVgHSgfAipdH"
      },
      "source": [
        "3. Утверждается, что шарики для подшипников, изготовленные автоматическим станком, имеют средний диаметр 17 мм.\n",
        "Используя односторонний критерий с α=0,05, проверить эту гипотезу, если в выборке из n=100 шариков средний диаметр\n",
        "оказался равным 17.5 мм, а дисперсия известна и равна 4 кв. мм."
      ]
    },
    {
      "cell_type": "code",
      "metadata": {
        "id": "HO4UivFMnpzx"
      },
      "source": [
        "%reset -f\n",
        "import scipy.stats as st\n",
        "import numpy as np"
      ],
      "execution_count": 7,
      "outputs": []
    },
    {
      "cell_type": "code",
      "metadata": {
        "id": "62HMRvMJirZR"
      },
      "source": [
        "m0 = 17\n",
        "alfa = 0.95\n",
        "n = 100\n",
        "X = 17.5\n",
        "D = 4\n",
        "Z = 1.645"
      ],
      "execution_count": 8,
      "outputs": []
    },
    {
      "cell_type": "code",
      "metadata": {
        "colab": {
          "base_uri": "https://localhost:8080/"
        },
        "id": "1-Tk4ZrAjyem",
        "outputId": "b79653a8-c786-4398-c148-efc946deaa19"
      },
      "source": [
        "Zn = (X - m0) / (D / n)\n",
        "print(f\"{np.round(Zn)}\")"
      ],
      "execution_count": 9,
      "outputs": [
        {
          "output_type": "stream",
          "text": [
            "12.0\n"
          ],
          "name": "stdout"
        }
      ]
    },
    {
      "cell_type": "markdown",
      "metadata": {
        "id": "vikQK1nYqQ1P"
      },
      "source": [
        "т.к. Zn рассчетное больше табличного, то верна гипотеза Н1"
      ]
    },
    {
      "cell_type": "markdown",
      "metadata": {
        "id": "y1fIM9ABqgA5"
      },
      "source": [
        "4. Продавец утверждает, что средний вес пачки печенья составляет 200 г.\n",
        "Из партии извлечена выборка из 10 пачек. Вес каждой пачки составляет:\n",
        "202, 203, 199, 197, 195, 201, 200, 204, 194, 190.\n",
        "Известно, что их веса распределены нормально.\n",
        "Верно ли утверждение продавца, если учитывать, что доверительная вероятность равна 99%?"
      ]
    },
    {
      "cell_type": "code",
      "metadata": {
        "id": "nBSfAVt7rQrC"
      },
      "source": [
        "%reset -f\n",
        "import scipy.stats as st\n",
        "import numpy as np"
      ],
      "execution_count": 10,
      "outputs": []
    },
    {
      "cell_type": "code",
      "metadata": {
        "id": "G5btT4vLrTbg"
      },
      "source": [
        "m0 = 200\n",
        "alfa = 0.99\n",
        "n = 10\n",
        "x = [202, 203, 199, 197, 195, 201, 200, 204, 194, 190]\n",
        "Zt = st.norm.ppf(alfa)"
      ],
      "execution_count": 11,
      "outputs": []
    },
    {
      "cell_type": "code",
      "metadata": {
        "colab": {
          "base_uri": "https://localhost:8080/"
        },
        "id": "ASB5wSTIsLcX",
        "outputId": "79c293e9-6da1-4902-d594-f60603aa6058"
      },
      "source": [
        "x.sort()\n",
        "print(f\"Sorted array {x}\")\n",
        "X = (x[(int(len(x) / 2) - 1)] + x[(int(len(x) / 2))]) / 2\n",
        "D = np.std(x)**2\n",
        "\n",
        "Zn = (X - m0) / (D / n)\n",
        "print(f\"Zn = {np.round(Zn, 3)}, Zt = {np.round(Zt, 3)}, X = {X}\")"
      ],
      "execution_count": 12,
      "outputs": [
        {
          "output_type": "stream",
          "text": [
            "Sorted array [190, 194, 195, 197, 199, 200, 201, 202, 203, 204]\n",
            "Zn = -0.28, Zt = 2.326, X = 199.5\n"
          ],
          "name": "stdout"
        }
      ]
    },
    {
      "cell_type": "markdown",
      "metadata": {
        "id": "_zIFY4HQtAgz"
      },
      "source": [
        "т.к. Zn рассчетное меньше табличного, то верна гипотеза Н0,\n",
        "продавец прав"
      ]
    }
  ]
}