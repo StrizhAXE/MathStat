{
  "nbformat": 4,
  "nbformat_minor": 0,
  "metadata": {
    "colab": {
      "name": "Les_5.ipynb",
      "provenance": [],
      "collapsed_sections": [],
      "authorship_tag": "ABX9TyPc7wFjsNHErwpCMk9rwybI",
      "include_colab_link": true
    },
    "kernelspec": {
      "name": "python3",
      "display_name": "Python 3"
    },
    "language_info": {
      "name": "python"
    }
  },
  "cells": [
    {
      "cell_type": "markdown",
      "metadata": {
        "id": "view-in-github",
        "colab_type": "text"
      },
      "source": [
        "<a href=\"https://colab.research.google.com/github/StrizhAXE/MathStat/blob/main/Les_5.ipynb\" target=\"_parent\"><img src=\"https://colab.research.google.com/assets/colab-badge.svg\" alt=\"Open In Colab\"/></a>"
      ]
    },
    {
      "cell_type": "markdown",
      "metadata": {
        "id": "_dmvwTuMaVGX"
      },
      "source": [
        "1. Известно, что генеральная совокупность распределена нормально\n",
        "со средним квадратическим отклонением, равным 16.\n",
        "Найти доверительный интервал для оценки математического ожидания a с надежностью 0.95,\n",
        "если выборочная средняя M = 80, а объем выборки n = 256."
      ]
    },
    {
      "cell_type": "code",
      "metadata": {
        "id": "8t4FsYB4tcvE"
      },
      "source": [
        "%reset  -f"
      ],
      "execution_count": 80,
      "outputs": []
    },
    {
      "cell_type": "code",
      "metadata": {
        "id": "Z9D287szTyIq"
      },
      "source": [
        "sigma = 16\n",
        "Alfa = 0.95\n",
        "M = 80\n",
        "n = 256\n",
        "Za2 = 1.96"
      ],
      "execution_count": 81,
      "outputs": []
    },
    {
      "cell_type": "code",
      "metadata": {
        "colab": {
          "base_uri": "https://localhost:8080/"
        },
        "id": "24YIW4BXbFiF",
        "outputId": "a12e7326-f02f-4bb6-ab6e-8c5ec0b25b54"
      },
      "source": [
        "# a1 < a < a2\n",
        "a1 = M - Za2 * (sigma / n **0.5)\n",
        "a2 = M + Za2 * (sigma / n **0.5)\n",
        "print(f\"[{a1}; {a2}]\")"
      ],
      "execution_count": 82,
      "outputs": [
        {
          "output_type": "stream",
          "text": [
            "[78.04; 81.96]\n"
          ],
          "name": "stdout"
        }
      ]
    },
    {
      "cell_type": "markdown",
      "metadata": {
        "id": "-9g7afajeQmR"
      },
      "source": [
        "2. В результате 10 независимых измерений некоторой величины X, выполненных с одинаковой точностью,\n",
        "получены опытные данные: 6.9, 6.1, 6.2, 6.8, 7.5, 6.3, 6.4, 6.9, 6.7, 6.1\n",
        "Предполагая, что результаты измерений подчинены нормальному закону распределения вероятностей,\n",
        "оценить истинное значение величины X при помощи доверительного интервала, покрывающего это\n",
        "значение с доверительной вероятностью 0,95."
      ]
    },
    {
      "cell_type": "code",
      "metadata": {
        "id": "SY9bTvU2tf-T"
      },
      "source": [
        "%reset -f\n",
        "import numpy as np"
      ],
      "execution_count": 83,
      "outputs": []
    },
    {
      "cell_type": "code",
      "metadata": {
        "id": "fHIn4UCPeTaV"
      },
      "source": [
        "var_x = np.array([6.9, 6.1, 6.2, 6.8, 7.5, 6.3, 6.4, 6.9, 6.7, 6.1])\n",
        "alfa = 0.95\n",
        "t = 2.262\n",
        "n = 10"
      ],
      "execution_count": 84,
      "outputs": []
    },
    {
      "cell_type": "code",
      "metadata": {
        "colab": {
          "base_uri": "https://localhost:8080/"
        },
        "id": "MPI9hhnSeoyH",
        "outputId": "4cd04ba3-75b9-45b8-f9d2-8bf8f2f99061"
      },
      "source": [
        "M = var_x.mean()\n",
        "sigma = np.std(var_x, ddof=1)\n",
        "\n",
        "# a1 < a < a2\n",
        "a1 = M - t * (sigma / n **0.5)\n",
        "a2 = M + t * (sigma / n **0.5)\n",
        "print(f\"[{np.round(a1, 2)}; {np.round(a2, 2)}]\")"
      ],
      "execution_count": 85,
      "outputs": [
        {
          "output_type": "stream",
          "text": [
            "[6.27; 6.91]\n"
          ],
          "name": "stdout"
        }
      ]
    },
    {
      "cell_type": "markdown",
      "metadata": {
        "id": "uVgHSgfAipdH"
      },
      "source": [
        "3. Утверждается, что шарики для подшипников, изготовленные автоматическим станком, имеют средний диаметр 17 мм.\n",
        "Используя односторонний критерий с α=0,05, проверить эту гипотезу, если в выборке из n=100 шариков средний диаметр\n",
        "оказался равным 17.5 мм, а дисперсия известна и равна 4 кв. мм."
      ]
    },
    {
      "cell_type": "code",
      "metadata": {
        "id": "HO4UivFMnpzx"
      },
      "source": [
        "%reset -f\n",
        "import scipy.stats as st\n",
        "import numpy as np"
      ],
      "execution_count": 86,
      "outputs": []
    },
    {
      "cell_type": "code",
      "metadata": {
        "id": "62HMRvMJirZR"
      },
      "source": [
        "m0 = 17\n",
        "alfa = 0.95\n",
        "n = 100\n",
        "m = 17.5\n",
        "D = 4\n",
        "Z = st.norm.ppf(alfa)"
      ],
      "execution_count": 87,
      "outputs": []
    },
    {
      "cell_type": "code",
      "metadata": {
        "colab": {
          "base_uri": "https://localhost:8080/"
        },
        "id": "1-Tk4ZrAjyem",
        "outputId": "e644cd31-e75b-43b2-a020-63bcd91dea2d"
      },
      "source": [
        "Zn = (m - m0) / ((D / n)**0.5)\n",
        "print(f\"Zn({np.round(Zn, 2)}) > Z({np.round(Z, 2)})\")"
      ],
      "execution_count": 88,
      "outputs": [
        {
          "output_type": "stream",
          "text": [
            "Zn(2.5) > Z(1.64)\n"
          ],
          "name": "stdout"
        }
      ]
    },
    {
      "cell_type": "markdown",
      "metadata": {
        "id": "vikQK1nYqQ1P"
      },
      "source": [
        "т.к. Zn рассчетное больше табличного, то верна гипотеза Н1"
      ]
    },
    {
      "cell_type": "markdown",
      "metadata": {
        "id": "y1fIM9ABqgA5"
      },
      "source": [
        "4. Продавец утверждает, что средний вес пачки печенья составляет 200 г.\n",
        "Из партии извлечена выборка из 10 пачек. Вес каждой пачки составляет:\n",
        "202, 203, 199, 197, 195, 201, 200, 204, 194, 190.\n",
        "Известно, что их веса распределены нормально.\n",
        "Верно ли утверждение продавца, если учитывать, что доверительная вероятность равна 99%?"
      ]
    },
    {
      "cell_type": "code",
      "metadata": {
        "id": "nBSfAVt7rQrC"
      },
      "source": [
        "%reset -f\n",
        "import scipy.stats as st\n",
        "import numpy as np"
      ],
      "execution_count": 89,
      "outputs": []
    },
    {
      "cell_type": "code",
      "metadata": {
        "id": "G5btT4vLrTbg"
      },
      "source": [
        "m0 = 200\n",
        "alfa = 0.99\n",
        "n = 10\n",
        "x = np.array([202, 203, 199, 197, 195, 201, 200, 204, 194, 190])\n",
        "ta2 = 3.25"
      ],
      "execution_count": 90,
      "outputs": []
    },
    {
      "cell_type": "code",
      "metadata": {
        "colab": {
          "base_uri": "https://localhost:8080/"
        },
        "id": "ASB5wSTIsLcX",
        "outputId": "69fb9d4d-c82c-45f7-b8f7-22c3c251d2d2"
      },
      "source": [
        "X = x.mean()\n",
        "D = x.var(ddof=1)\n",
        "\n",
        "t = (X - m0) / ((D / n)**0.5)\n",
        "print(f\"t = {np.round(t, 3)}, ta2 = {np.round(ta2, 3)}, X = {X}\")"
      ],
      "execution_count": 91,
      "outputs": [
        {
          "output_type": "stream",
          "text": [
            "t = -1.065, ta2 = 3.25, X = 198.5\n"
          ],
          "name": "stdout"
        }
      ]
    },
    {
      "cell_type": "markdown",
      "metadata": {
        "id": "_zIFY4HQtAgz"
      },
      "source": [
        "т.к. t рассчетное находится внутри табличного интервала, то верна гипотеза Н0, продавец прав."
      ]
    }
  ]
}